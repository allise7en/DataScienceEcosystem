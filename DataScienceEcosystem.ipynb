{
 "cells": [
  {
   "cell_type": "markdown",
   "id": "6a4d1153-fb92-42fb-a370-e9d90822801b",
   "metadata": {},
   "source": [
    "# Data Science Tools and Ecosystem"
   ]
  },
  {
   "cell_type": "markdown",
   "id": "0f9e29f1-6ec1-4f22-a303-31242afdb766",
   "metadata": {},
   "source": [
    "# In this notebook, Data Science Tools and Ecosystem are summarized."
   ]
  },
  {
   "cell_type": "markdown",
   "id": "be15ba71-259c-403f-b181-5b904f6aed83",
   "metadata": {},
   "source": [
    "# Some of the popular languages that Data Scientists use are:"
   ]
  },
  {
   "cell_type": "markdown",
   "id": "2fe32246-8b00-46c6-a5f1-fda9c822e03e",
   "metadata": {},
   "source": [
    "1. Python\n",
    "2. R\n",
    "3. SQL\n",
    "4. Java\n",
    "5. Julia"
   ]
  },
  {
   "cell_type": "markdown",
   "id": "e986ca50-1130-47d7-9019-bbdaef561624",
   "metadata": {},
   "source": [
    "# Some of the commonly used libraries used by Data Scientists include:"
   ]
  },
  {
   "cell_type": "markdown",
   "id": "09786f91-2b43-413f-b513-b3487a0777d1",
   "metadata": {},
   "source": [
    "1. Matplotlib\n",
    "2. Seaborn\n",
    "3. Pandas\n",
    "4. Beautiful Soup\n",
    "5. PyTorch"
   ]
  },
  {
   "cell_type": "markdown",
   "id": "0b3d3aad-82f4-460f-a009-66b32932e9f3",
   "metadata": {},
   "source": [
    "| Data Science Tools      |\n",
    "|-------------------------|\n",
    "| Jupyter Notebook       |\n",
    "| RStudio               |\n",
    "| Apache Zeppelin       |\n",
    "| Spyder                |\n",
    "| KNIME                 |\n",
    "| Google Colab          |\n",
    "\n"
   ]
  },
  {
   "cell_type": "markdown",
   "id": "cee1ab0f-6e64-48ff-8c29-4eba067297f7",
   "metadata": {},
   "source": [
    "### Below are a few examples of evaluating arithmetic expressions in Python."
   ]
  },
  {
   "cell_type": "code",
   "execution_count": 11,
   "id": "728f2df2-0fb5-4d82-bfcf-39487dceeb4e",
   "metadata": {},
   "outputs": [
    {
     "data": {
      "text/plain": [
       "17"
      ]
     },
     "execution_count": 11,
     "metadata": {},
     "output_type": "execute_result"
    }
   ],
   "source": [
    "#This a simple arithmetic expression to mutiply then add integers\n",
    "(3*4)+5"
   ]
  },
  {
   "cell_type": "code",
   "execution_count": 12,
   "id": "0c38f7ba-a491-4649-becc-8affde07ad55",
   "metadata": {},
   "outputs": [
    {
     "data": {
      "text/plain": [
       "3.3333333333333335"
      ]
     },
     "execution_count": 12,
     "metadata": {},
     "output_type": "execute_result"
    }
   ],
   "source": [
    "#This will convert 200 minutes to hours by diving by 60\n",
    "200/60"
   ]
  },
  {
   "cell_type": "markdown",
   "id": "0d93fef4-8cd8-483b-9db6-40d8c379b2c0",
   "metadata": {},
   "source": [
    "**Objectives:**\n",
    "\n",
    "- List popular languages for Data Science\n",
    "- Identify commonly used libraries in Data Science\n",
    "- Introduce commonly used open-source development tools\n",
    "- Demonstrate arithmetic operations in Python\n",
    "- Convert time measurements using Python expressions"
   ]
  },
  {
   "cell_type": "markdown",
   "id": "ec20d75c-e363-427e-8633-3607259e2863",
   "metadata": {},
   "source": [
    "# Author\n",
    "Azim Ali Siddique"
   ]
  },
  {
   "cell_type": "code",
   "execution_count": null,
   "id": "f7db4033-c4dc-4502-9534-8d594fb71fc3",
   "metadata": {},
   "outputs": [],
   "source": []
  }
 ],
 "metadata": {
  "kernelspec": {
   "display_name": "Python 3 (ipykernel)",
   "language": "python",
   "name": "python3"
  },
  "language_info": {
   "codemirror_mode": {
    "name": "ipython",
    "version": 3
   },
   "file_extension": ".py",
   "mimetype": "text/x-python",
   "name": "python",
   "nbconvert_exporter": "python",
   "pygments_lexer": "ipython3",
   "version": "3.12.9"
  }
 },
 "nbformat": 4,
 "nbformat_minor": 5
}
